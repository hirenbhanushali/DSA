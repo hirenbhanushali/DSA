{
  "nbformat": 4,
  "nbformat_minor": 0,
  "metadata": {
    "colab": {
      "name": "Stacks.ipynb",
      "provenance": []
    },
    "kernelspec": {
      "name": "python3",
      "display_name": "Python 3"
    }
  },
  "cells": [
    {
      "cell_type": "code",
      "metadata": {
        "id": "-xjSWNTlT35o"
      },
      "source": [
        "class Node:\r\n",
        "    def __init__(self, value):\r\n",
        "        self.value = value\r\n",
        "        self.next = None"
      ],
      "execution_count": 1,
      "outputs": []
    },
    {
      "cell_type": "code",
      "metadata": {
        "id": "u2fxxw3M0XpX"
      },
      "source": [
        "class stack:\r\n",
        "    def __init__(self):\r\n",
        "        self.head = None\r\n",
        "        self.size = 0\r\n",
        "    \r\n",
        "    def push(self,value):\r\n",
        "        if self.head is None:\r\n",
        "            self.head = Node(value)\r\n",
        "            self.size+=1\r\n",
        "            return\r\n",
        "        node = Node(value)\r\n",
        "        node.next = self.head\r\n",
        "        self.head = node\r\n",
        "        self.size+=1\r\n",
        "\r\n",
        "    def to_list(self):\r\n",
        "        node = self.head\r\n",
        "        l = []\r\n",
        "        while node:\r\n",
        "            l.append(node.value)\r\n",
        "            node = node.next\r\n",
        "        return l\r\n",
        "\r\n",
        "    def pop(self):\r\n",
        "        node = self.head\r\n",
        "        self.head = self.head.next\r\n",
        "        self.size -=1\r\n",
        "        return node.value\r\n",
        "\r\n",
        "    def is_empty(self):\r\n",
        "        if self.size==0:\r\n",
        "            return True\r\n",
        "        else:\r\n",
        "            return False"
      ],
      "execution_count": 2,
      "outputs": []
    },
    {
      "cell_type": "code",
      "metadata": {
        "id": "6zEB9hxUUXK6"
      },
      "source": [
        "s = stack()"
      ],
      "execution_count": 3,
      "outputs": []
    },
    {
      "cell_type": "code",
      "metadata": {
        "id": "ETXvBLfRUYvC"
      },
      "source": [
        "s.push(4)"
      ],
      "execution_count": 4,
      "outputs": []
    },
    {
      "cell_type": "code",
      "metadata": {
        "colab": {
          "base_uri": "https://localhost:8080/"
        },
        "id": "PRUkYHdkUbZC",
        "outputId": "77fb1f1f-7c95-47f7-a26e-da4d689182e7"
      },
      "source": [
        "s.to_list()"
      ],
      "execution_count": 5,
      "outputs": [
        {
          "output_type": "execute_result",
          "data": {
            "text/plain": [
              "[4]"
            ]
          },
          "metadata": {
            "tags": []
          },
          "execution_count": 5
        }
      ]
    },
    {
      "cell_type": "code",
      "metadata": {
        "id": "oOfSDq68UdNq"
      },
      "source": [
        "s.push(5)"
      ],
      "execution_count": 6,
      "outputs": []
    },
    {
      "cell_type": "code",
      "metadata": {
        "id": "XBUbT3G-UgGq"
      },
      "source": [
        "s.push(7)"
      ],
      "execution_count": 8,
      "outputs": []
    },
    {
      "cell_type": "code",
      "metadata": {
        "colab": {
          "base_uri": "https://localhost:8080/"
        },
        "id": "Mu75yNZjUhyi",
        "outputId": "5f26428a-d569-4814-9ed3-b03f8a1aa2b7"
      },
      "source": [
        "s.pop()"
      ],
      "execution_count": 9,
      "outputs": [
        {
          "output_type": "execute_result",
          "data": {
            "text/plain": [
              "7"
            ]
          },
          "metadata": {
            "tags": []
          },
          "execution_count": 9
        }
      ]
    },
    {
      "cell_type": "code",
      "metadata": {
        "colab": {
          "base_uri": "https://localhost:8080/"
        },
        "id": "rhc6X1pnUlZy",
        "outputId": "7e12e176-3873-4cf9-9475-fa081e14ad03"
      },
      "source": [
        "s.is_empty()"
      ],
      "execution_count": 10,
      "outputs": [
        {
          "output_type": "execute_result",
          "data": {
            "text/plain": [
              "False"
            ]
          },
          "metadata": {
            "tags": []
          },
          "execution_count": 10
        }
      ]
    },
    {
      "cell_type": "code",
      "metadata": {
        "colab": {
          "base_uri": "https://localhost:8080/"
        },
        "id": "CdeJgodKUqIK",
        "outputId": "d2f78ef9-b960-4d39-b88e-350b43e8a52b"
      },
      "source": [
        "s.size"
      ],
      "execution_count": 12,
      "outputs": [
        {
          "output_type": "execute_result",
          "data": {
            "text/plain": [
              "2"
            ]
          },
          "metadata": {
            "tags": []
          },
          "execution_count": 12
        }
      ]
    },
    {
      "cell_type": "code",
      "metadata": {
        "colab": {
          "base_uri": "https://localhost:8080/"
        },
        "id": "VGKzRoPLUsyK",
        "outputId": "f29e28b3-d75d-4f32-cbde-7d9b8189aaf3"
      },
      "source": [
        "s.pop()"
      ],
      "execution_count": 13,
      "outputs": [
        {
          "output_type": "execute_result",
          "data": {
            "text/plain": [
              "5"
            ]
          },
          "metadata": {
            "tags": []
          },
          "execution_count": 13
        }
      ]
    },
    {
      "cell_type": "code",
      "metadata": {
        "colab": {
          "base_uri": "https://localhost:8080/"
        },
        "id": "ZfXpFPllUx0K",
        "outputId": "f99b5b9a-115a-42c0-ad3e-77e154ce2c02"
      },
      "source": [
        "s.pop()"
      ],
      "execution_count": 14,
      "outputs": [
        {
          "output_type": "execute_result",
          "data": {
            "text/plain": [
              "4"
            ]
          },
          "metadata": {
            "tags": []
          },
          "execution_count": 14
        }
      ]
    },
    {
      "cell_type": "code",
      "metadata": {
        "colab": {
          "base_uri": "https://localhost:8080/"
        },
        "id": "vTz4aq_xUzIa",
        "outputId": "baa4ffb6-ef7c-429d-8508-6b572b2209d9"
      },
      "source": [
        "s.is_empty()"
      ],
      "execution_count": 15,
      "outputs": [
        {
          "output_type": "execute_result",
          "data": {
            "text/plain": [
              "True"
            ]
          },
          "metadata": {
            "tags": []
          },
          "execution_count": 15
        }
      ]
    },
    {
      "cell_type": "code",
      "metadata": {
        "id": "-r2nngA4U0lS"
      },
      "source": [
        ""
      ],
      "execution_count": null,
      "outputs": []
    }
  ]
}