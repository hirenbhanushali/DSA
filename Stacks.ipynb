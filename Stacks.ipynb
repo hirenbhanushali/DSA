{
  "nbformat": 4,
  "nbformat_minor": 0,
  "metadata": {
    "colab": {
      "name": "Stacks.ipynb",
      "provenance": [],
      "authorship_tag": "ABX9TyPtBLtWNSYM6Ebd+r9PyZhr",
      "include_colab_link": true
    },
    "kernelspec": {
      "name": "python3",
      "display_name": "Python 3"
    }
  },
  "cells": [
    {
      "cell_type": "markdown",
      "metadata": {
        "id": "view-in-github",
        "colab_type": "text"
      },
      "source": [
        "<a href=\"https://colab.research.google.com/github/hirenbhanushali/DSA/blob/master/Stacks.ipynb\" target=\"_parent\"><img src=\"https://colab.research.google.com/assets/colab-badge.svg\" alt=\"Open In Colab\"/></a>"
      ]
    },
    {
      "cell_type": "code",
      "metadata": {
        "id": "-xjSWNTlT35o"
      },
      "source": [
        "class Node:\r\n",
        "    def __init__(self, value):\r\n",
        "        self.value = value\r\n",
        "        self.next = None"
      ],
      "execution_count": 76,
      "outputs": []
    },
    {
      "cell_type": "code",
      "metadata": {
        "id": "u2fxxw3M0XpX"
      },
      "source": [
        "class stack:\r\n",
        "    def __init__(self):\r\n",
        "        self.head = None\r\n",
        "        self.size = 0\r\n",
        "    \r\n",
        "    def push(self,value):\r\n",
        "        if self.head is None:\r\n",
        "            self.head = Node(value)\r\n",
        "            self.size+=1\r\n",
        "            return\r\n",
        "        node = Node(value)\r\n",
        "        node.next = self.head\r\n",
        "        self.head = node\r\n",
        "        self.size+=1\r\n",
        "\r\n",
        "    def to_list(self):\r\n",
        "        node = self.head\r\n",
        "        l = []\r\n",
        "        while node:\r\n",
        "            l.append(node.value)\r\n",
        "            node = node.next\r\n",
        "        return l\r\n",
        "\r\n",
        "    def pop(self):\r\n",
        "        if self.size==0:\r\n",
        "            return None\r\n",
        "        node = self.head\r\n",
        "        self.head = self.head.next\r\n",
        "        self.size -=1\r\n",
        "        return node.value\r\n",
        "\r\n",
        "    def is_empty(self):\r\n",
        "        if self.size==0:\r\n",
        "            return True\r\n",
        "        else:\r\n",
        "            return False\r\n",
        "\r\n",
        "    def peek(self):\r\n",
        "        return self.head.value"
      ],
      "execution_count": 77,
      "outputs": []
    },
    {
      "cell_type": "code",
      "metadata": {
        "colab": {
          "base_uri": "https://localhost:8080/"
        },
        "id": "uUx9H4L3dWAb",
        "outputId": "8cf7d867-243c-4ea9-8a25-536485717b46"
      },
      "source": [
        "stack = stack()\r\n",
        "stack.push(10)\r\n",
        "stack.push(20)\r\n",
        "stack.push(30)\r\n",
        "stack.push(40)\r\n",
        "stack.push(50)\r\n",
        "\r\n",
        "# Test size\r\n",
        "print (\"Pass\" if (stack.size == 5) else \"Fail\")\r\n",
        "\r\n",
        "# Test pop\r\n",
        "print (\"Pass\" if (stack.pop() == 50) else \"Fail\")\r\n",
        "\r\n",
        "# Test push\r\n",
        "stack.push(60)\r\n",
        "print (\"Pass\" if (stack.pop() == 60) else \"Fail\")\r\n",
        "print (\"Pass\" if (stack.pop() == 40) else \"Fail\")\r\n",
        "print (\"Pass\" if (stack.pop() == 30) else \"Fail\")\r\n",
        "stack.push(50)\r\n",
        "print (\"Pass\" if (stack.size == 3) else \"Fail\")"
      ],
      "execution_count": 78,
      "outputs": [
        {
          "output_type": "stream",
          "text": [
            "Pass\n",
            "Pass\n",
            "Pass\n",
            "Pass\n",
            "Pass\n",
            "Pass\n"
          ],
          "name": "stdout"
        }
      ]
    },
    {
      "cell_type": "code",
      "metadata": {
        "id": "3GME0BHvvJXG"
      },
      "source": [
        ""
      ],
      "execution_count": 78,
      "outputs": []
    }
  ]
}