{
  "nbformat": 4,
  "nbformat_minor": 0,
  "metadata": {
    "colab": {
      "name": "Stacks.ipynb",
      "provenance": [],
      "authorship_tag": "ABX9TyNHN0sHwTZd4+Wh1YgMF6SS"
    },
    "kernelspec": {
      "name": "python3",
      "display_name": "Python 3"
    }
  },
  "cells": [
    {
      "cell_type": "code",
      "metadata": {
        "id": "-xjSWNTlT35o"
      },
      "source": [
        "class Node:\r\n",
        "    def __init__(self, value):\r\n",
        "        self.value = value\r\n",
        "        self.next = None"
      ],
      "execution_count": 57,
      "outputs": []
    },
    {
      "cell_type": "code",
      "metadata": {
        "id": "u2fxxw3M0XpX"
      },
      "source": [
        "class stack:\r\n",
        "    def __init__(self):\r\n",
        "        self.head = None\r\n",
        "        self.size = 0\r\n",
        "    \r\n",
        "    def push(self,value):\r\n",
        "        if self.head is None:\r\n",
        "            self.head = Node(value)\r\n",
        "            self.size+=1\r\n",
        "            return\r\n",
        "        node = Node(value)\r\n",
        "        node.next = self.head\r\n",
        "        self.head = node\r\n",
        "        self.size+=1\r\n",
        "\r\n",
        "    def to_list(self):\r\n",
        "        node = self.head\r\n",
        "        l = []\r\n",
        "        while node:\r\n",
        "            l.append(node.value)\r\n",
        "            node = node.next\r\n",
        "        return l\r\n",
        "\r\n",
        "    def pop(self):\r\n",
        "        if self.size==0:\r\n",
        "            return None\r\n",
        "        node = self.head\r\n",
        "        self.head = self.head.next\r\n",
        "        self.size -=1\r\n",
        "        return node.value\r\n",
        "\r\n",
        "    def is_empty(self):\r\n",
        "        if self.size==0:\r\n",
        "            return True\r\n",
        "        else:\r\n",
        "            return False\r\n",
        "\r\n",
        "    def peek(self):\r\n",
        "        return self.head.value"
      ],
      "execution_count": 58,
      "outputs": []
    },
    {
      "cell_type": "code",
      "metadata": {
        "id": "6zEB9hxUUXK6"
      },
      "source": [
        "s = stack()"
      ],
      "execution_count": 59,
      "outputs": []
    },
    {
      "cell_type": "code",
      "metadata": {
        "id": "ETXvBLfRUYvC"
      },
      "source": [
        "s.push(4)"
      ],
      "execution_count": 60,
      "outputs": []
    },
    {
      "cell_type": "code",
      "metadata": {
        "colab": {
          "base_uri": "https://localhost:8080/"
        },
        "id": "PRUkYHdkUbZC",
        "outputId": "59b995f4-df02-469c-966d-6e906399f370"
      },
      "source": [
        "s.to_list()"
      ],
      "execution_count": 61,
      "outputs": [
        {
          "output_type": "execute_result",
          "data": {
            "text/plain": [
              "[4]"
            ]
          },
          "metadata": {
            "tags": []
          },
          "execution_count": 61
        }
      ]
    },
    {
      "cell_type": "code",
      "metadata": {
        "id": "oOfSDq68UdNq"
      },
      "source": [
        "s.push(5)"
      ],
      "execution_count": 62,
      "outputs": []
    },
    {
      "cell_type": "code",
      "metadata": {
        "id": "XBUbT3G-UgGq"
      },
      "source": [
        "s.push(7)"
      ],
      "execution_count": 63,
      "outputs": []
    },
    {
      "cell_type": "code",
      "metadata": {
        "colab": {
          "base_uri": "https://localhost:8080/"
        },
        "id": "Mu75yNZjUhyi",
        "outputId": "ed6437f5-87f0-4ff1-d724-ed0835cf8a4d"
      },
      "source": [
        "s.pop()"
      ],
      "execution_count": 64,
      "outputs": [
        {
          "output_type": "execute_result",
          "data": {
            "text/plain": [
              "7"
            ]
          },
          "metadata": {
            "tags": []
          },
          "execution_count": 64
        }
      ]
    },
    {
      "cell_type": "code",
      "metadata": {
        "colab": {
          "base_uri": "https://localhost:8080/"
        },
        "id": "rhc6X1pnUlZy",
        "outputId": "5cec21ac-3005-4325-e0a1-42424b238b83"
      },
      "source": [
        "s.is_empty()"
      ],
      "execution_count": 65,
      "outputs": [
        {
          "output_type": "execute_result",
          "data": {
            "text/plain": [
              "False"
            ]
          },
          "metadata": {
            "tags": []
          },
          "execution_count": 65
        }
      ]
    },
    {
      "cell_type": "code",
      "metadata": {
        "colab": {
          "base_uri": "https://localhost:8080/"
        },
        "id": "CdeJgodKUqIK",
        "outputId": "9887c9ae-1e65-483d-989f-83cbf21aeac2"
      },
      "source": [
        "s.size"
      ],
      "execution_count": 66,
      "outputs": [
        {
          "output_type": "execute_result",
          "data": {
            "text/plain": [
              "2"
            ]
          },
          "metadata": {
            "tags": []
          },
          "execution_count": 66
        }
      ]
    },
    {
      "cell_type": "code",
      "metadata": {
        "colab": {
          "base_uri": "https://localhost:8080/"
        },
        "id": "VGKzRoPLUsyK",
        "outputId": "da5316f8-e71f-4068-d216-a808bd4ca30b"
      },
      "source": [
        "s.pop()"
      ],
      "execution_count": 67,
      "outputs": [
        {
          "output_type": "execute_result",
          "data": {
            "text/plain": [
              "5"
            ]
          },
          "metadata": {
            "tags": []
          },
          "execution_count": 67
        }
      ]
    },
    {
      "cell_type": "code",
      "metadata": {
        "colab": {
          "base_uri": "https://localhost:8080/"
        },
        "id": "ZfXpFPllUx0K",
        "outputId": "7f00e1ba-d82c-48e8-9bd6-8009a4040284"
      },
      "source": [
        "s.pop()"
      ],
      "execution_count": 68,
      "outputs": [
        {
          "output_type": "execute_result",
          "data": {
            "text/plain": [
              "4"
            ]
          },
          "metadata": {
            "tags": []
          },
          "execution_count": 68
        }
      ]
    },
    {
      "cell_type": "code",
      "metadata": {
        "colab": {
          "base_uri": "https://localhost:8080/"
        },
        "id": "vTz4aq_xUzIa",
        "outputId": "7ed33b7d-cfcd-42b7-ff63-a9a299ad6fac"
      },
      "source": [
        "s.is_empty()"
      ],
      "execution_count": 69,
      "outputs": [
        {
          "output_type": "execute_result",
          "data": {
            "text/plain": [
              "True"
            ]
          },
          "metadata": {
            "tags": []
          },
          "execution_count": 69
        }
      ]
    },
    {
      "cell_type": "code",
      "metadata": {
        "id": "-r2nngA4U0lS"
      },
      "source": [
        "s.push(5)"
      ],
      "execution_count": 70,
      "outputs": []
    },
    {
      "cell_type": "code",
      "metadata": {
        "id": "JZux8B-gYnSs"
      },
      "source": [
        "s.push(8)"
      ],
      "execution_count": 71,
      "outputs": []
    },
    {
      "cell_type": "code",
      "metadata": {
        "colab": {
          "base_uri": "https://localhost:8080/"
        },
        "id": "vpoOnh9rYtHs",
        "outputId": "51fd8d90-fe6a-4d45-86a8-73867ce44686"
      },
      "source": [
        "s.peek()"
      ],
      "execution_count": 72,
      "outputs": [
        {
          "output_type": "execute_result",
          "data": {
            "text/plain": [
              "8"
            ]
          },
          "metadata": {
            "tags": []
          },
          "execution_count": 72
        }
      ]
    },
    {
      "cell_type": "code",
      "metadata": {
        "colab": {
          "base_uri": "https://localhost:8080/"
        },
        "id": "9wRtK2j7Yt6T",
        "outputId": "2678c247-a6b4-4ac2-ec62-084f493de3ef"
      },
      "source": [
        "s.to_list()"
      ],
      "execution_count": 73,
      "outputs": [
        {
          "output_type": "execute_result",
          "data": {
            "text/plain": [
              "[8, 5]"
            ]
          },
          "metadata": {
            "tags": []
          },
          "execution_count": 73
        }
      ]
    },
    {
      "cell_type": "code",
      "metadata": {
        "colab": {
          "base_uri": "https://localhost:8080/"
        },
        "id": "YzrceV5CdU4k",
        "outputId": "c58a9a35-1e88-4acc-b180-19413cf05fec"
      },
      "source": [
        "s.pop()"
      ],
      "execution_count": 74,
      "outputs": [
        {
          "output_type": "execute_result",
          "data": {
            "text/plain": [
              "8"
            ]
          },
          "metadata": {
            "tags": []
          },
          "execution_count": 74
        }
      ]
    },
    {
      "cell_type": "code",
      "metadata": {
        "colab": {
          "base_uri": "https://localhost:8080/"
        },
        "id": "uUx9H4L3dWAb",
        "outputId": "fbf42251-74ea-4a68-822b-1b78321ad96a"
      },
      "source": [
        "stack = stack()\r\n",
        "stack.push(10)\r\n",
        "stack.push(20)\r\n",
        "stack.push(30)\r\n",
        "stack.push(40)\r\n",
        "stack.push(50)\r\n",
        "\r\n",
        "# Test size\r\n",
        "print (\"Pass\" if (stack.size == 5) else \"Fail\")\r\n",
        "\r\n",
        "# Test pop\r\n",
        "print (\"Pass\" if (stack.pop() == 50) else \"Fail\")\r\n",
        "\r\n",
        "# Test push\r\n",
        "stack.push(60)\r\n",
        "print (\"Pass\" if (stack.pop() == 60) else \"Fail\")\r\n",
        "print (\"Pass\" if (stack.pop() == 40) else \"Fail\")\r\n",
        "print (\"Pass\" if (stack.pop() == 30) else \"Fail\")\r\n",
        "stack.push(50)\r\n",
        "print (\"Pass\" if (stack.size == 3) else \"Fail\")"
      ],
      "execution_count": 75,
      "outputs": [
        {
          "output_type": "stream",
          "text": [
            "Pass\n",
            "Pass\n",
            "Pass\n",
            "Pass\n",
            "Pass\n",
            "Pass\n"
          ],
          "name": "stdout"
        }
      ]
    },
    {
      "cell_type": "code",
      "metadata": {
        "id": "3GME0BHvvJXG"
      },
      "source": [
        ""
      ],
      "execution_count": null,
      "outputs": []
    }
  ]
}