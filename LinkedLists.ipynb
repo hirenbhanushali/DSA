{
  "nbformat": 4,
  "nbformat_minor": 0,
  "metadata": {
    "colab": {
      "name": "DS.ipynb",
      "provenance": [],
      "collapsed_sections": []
    },
    "kernelspec": {
      "name": "python3",
      "display_name": "Python 3"
    }
  },
  "cells": [
    {
      "cell_type": "code",
      "metadata": {
        "id": "ervExtUUuupR"
      },
      "source": [
        "class Node:\r\n",
        "    def __init__(self, value):\r\n",
        "        self.value = value\r\n",
        "        self.next = None"
      ],
      "execution_count": null,
      "outputs": []
    },
    {
      "cell_type": "code",
      "metadata": {
        "id": "BuhaGY3QwSwI"
      },
      "source": [
        "class linkedList:\r\n",
        "    def __init__(self):\r\n",
        "        self.head = None\r\n",
        "        self.tail = None\r\n",
        "        self.length = 0\r\n",
        "\r\n",
        "    def append(self, value):\r\n",
        "        if self.head is None:\r\n",
        "            self.head = Node(value)\r\n",
        "            self.tail = self.head\r\n",
        "            self.length = 1\r\n",
        "            return self.to_list()\r\n",
        "\r\n",
        "        node = self.head\r\n",
        "        while node.next:\r\n",
        "            node = node.next\r\n",
        "        node.next = Node(value)\r\n",
        "        self.tail = node.next\r\n",
        "        self.length += 1\r\n",
        "        return self.to_list()\r\n",
        "\r\n",
        "    def append2(self,value):\r\n",
        "        if self.head is None:\r\n",
        "            self.head = Node(value)\r\n",
        "            self.tail = self.head\r\n",
        "            self.length = 1\r\n",
        "            return self.to_list()\r\n",
        "        \r\n",
        "        node = Node(value)\r\n",
        "        self.tail.next = node\r\n",
        "        self.tail = node\r\n",
        "        return self.to_list()\r\n",
        "\r\n",
        "    def to_list(self):\r\n",
        "        values = []\r\n",
        "        node = self.head\r\n",
        "        while node:\r\n",
        "            values.append(node.value)\r\n",
        "            node = node.next\r\n",
        "        return values\r\n",
        "\r\n",
        "    def search(self,key):\r\n",
        "        node = self.head\r\n",
        "        while node:\r\n",
        "            if node.value==key:\r\n",
        "                return node\r\n",
        "            node = node.next\r\n",
        "        return -1\r\n",
        "\r\n",
        "    def prepend(self,value):\r\n",
        "        if self.head is None:\r\n",
        "            self.head = Node(value)\r\n",
        "            self.tail = self.head\r\n",
        "            return\r\n",
        "\r\n",
        "        node = Node(value)\r\n",
        "        node.next = self.head\r\n",
        "        self.head = node\r\n",
        "        return self.to_list()\r\n",
        "\r\n",
        "    def remove(self,value):\r\n",
        "        node = self.head\r\n",
        "        prev_node = None\r\n",
        "        while node:\r\n",
        "            if self.head.value==value:\r\n",
        "                self.head = self.head.next\r\n",
        "                return self.to_list()\r\n",
        "            if node.value==value:\r\n",
        "                prev_node.next = node.next\r\n",
        "                return self.to_list()\r\n",
        "            prev_node = node\r\n",
        "            node = node.next\r\n",
        "\r\n",
        "    def pop(self):\r\n",
        "        node = self.head\r\n",
        "        self.head = self.head.next\r\n",
        "        return node.value\r\n",
        "\r\n",
        "    def insert(self,index,value):\r\n",
        "        count = 1\r\n",
        "        if index==0:\r\n",
        "            self.prepend(value)\r\n",
        "            return self.to_list()\r\n",
        "        prev = self.head\r\n",
        "        node = self.head.next\r\n",
        "        while node:\r\n",
        "            if count==index:\r\n",
        "                prev.next = Node(value)\r\n",
        "                prev.next.next = node\r\n",
        "                return self.to_list()\r\n",
        "            prev = node\r\n",
        "            node = node.next\r\n",
        "            count+=1\r\n",
        "        return self.append(value)"
      ],
      "execution_count": null,
      "outputs": []
    },
    {
      "cell_type": "code",
      "metadata": {
        "id": "Ns8BakH46rMa"
      },
      "source": [
        "class Node2:\r\n",
        "    def __init__(self, value):\r\n",
        "        self.value = value\r\n",
        "        self.next = None\r\n",
        "        self.prev = None\r\n",
        "\r\n",
        "class doublyLinkedList:\r\n",
        "    def __init__(self):\r\n",
        "        self.head = None\r\n",
        "        self.tail = self.head\r\n",
        "\r\n",
        "    def append(self,value):\r\n",
        "        if self.head is None:\r\n",
        "            self.head = Node2(value)\r\n",
        "            self.tail = self.head\r\n",
        "            return self.to_list()\r\n",
        "        else:\r\n",
        "            self.tail.next = Node2(value)\r\n",
        "            self.tail.next.prev = self.tail\r\n",
        "            self.tail = self.tail.next\r\n",
        "            return self.to_list()\r\n",
        "\r\n",
        "    def to_list(self):\r\n",
        "        values = []\r\n",
        "        node = self.head\r\n",
        "        while node:\r\n",
        "            values.append(node.value)\r\n",
        "            node = node.next\r\n",
        "        return values    "
      ],
      "execution_count": null,
      "outputs": []
    },
    {
      "cell_type": "code",
      "metadata": {
        "id": "YQq4TYmG91d7"
      },
      "source": [
        "a=linkedList()"
      ],
      "execution_count": null,
      "outputs": []
    },
    {
      "cell_type": "code",
      "metadata": {
        "id": "tQ9iCQxe-UWg",
        "colab": {
          "base_uri": "https://localhost:8080/"
        },
        "outputId": "ea15d115-1d1f-4779-c273-6a6906ce44c4"
      },
      "source": [
        "a.append(3)"
      ],
      "execution_count": null,
      "outputs": [
        {
          "output_type": "execute_result",
          "data": {
            "text/plain": [
              "[3]"
            ]
          },
          "metadata": {
            "tags": []
          },
          "execution_count": 23
        }
      ]
    },
    {
      "cell_type": "code",
      "metadata": {
        "id": "oWzU2tPl-Wsw",
        "colab": {
          "base_uri": "https://localhost:8080/"
        },
        "outputId": "717556b4-d124-48b8-f197-5cf7c62ca997"
      },
      "source": [
        "a.append(4)"
      ],
      "execution_count": null,
      "outputs": [
        {
          "output_type": "execute_result",
          "data": {
            "text/plain": [
              "[3, 4]"
            ]
          },
          "metadata": {
            "tags": []
          },
          "execution_count": 24
        }
      ]
    },
    {
      "cell_type": "code",
      "metadata": {
        "id": "VrxO2xbh-ZqP",
        "colab": {
          "base_uri": "https://localhost:8080/"
        },
        "outputId": "8c9e693d-59c0-43a0-b2da-2c7301e1b66b"
      },
      "source": [
        "a.append(5)"
      ],
      "execution_count": null,
      "outputs": [
        {
          "output_type": "execute_result",
          "data": {
            "text/plain": [
              "[3, 4, 5]"
            ]
          },
          "metadata": {
            "tags": []
          },
          "execution_count": 25
        }
      ]
    },
    {
      "cell_type": "code",
      "metadata": {
        "colab": {
          "base_uri": "https://localhost:8080/"
        },
        "id": "mfLW1OJuaV3n",
        "outputId": "bab556ee-077b-4cba-9c63-0e4be34ddf83"
      },
      "source": [
        "a.to_list()"
      ],
      "execution_count": null,
      "outputs": [
        {
          "output_type": "execute_result",
          "data": {
            "text/plain": [
              "[3, 4, 5]"
            ]
          },
          "metadata": {
            "tags": []
          },
          "execution_count": 26
        }
      ]
    },
    {
      "cell_type": "code",
      "metadata": {
        "colab": {
          "base_uri": "https://localhost:8080/"
        },
        "id": "-cdlQC4fc6rv",
        "outputId": "2d79ed66-2ab2-440d-f16f-e1fa52ab7407"
      },
      "source": [
        "a.insert(1,8)"
      ],
      "execution_count": null,
      "outputs": [
        {
          "output_type": "execute_result",
          "data": {
            "text/plain": [
              "[3, 8, 4, 5]"
            ]
          },
          "metadata": {
            "tags": []
          },
          "execution_count": 27
        }
      ]
    },
    {
      "cell_type": "code",
      "metadata": {
        "id": "16CLQrFIhkb_"
      },
      "source": [
        "def reverselist(l):\r\n",
        "    node = l.head\r\n",
        "    b = linkedList()\r\n",
        "    while node:\r\n",
        "        b.prepend(node.value)\r\n",
        "        node = node.next\r\n",
        "    return b"
      ],
      "execution_count": null,
      "outputs": []
    },
    {
      "cell_type": "code",
      "metadata": {
        "id": "M-8c1GONiSUJ"
      },
      "source": [
        "b = reverselist(a)"
      ],
      "execution_count": null,
      "outputs": []
    },
    {
      "cell_type": "code",
      "metadata": {
        "colab": {
          "base_uri": "https://localhost:8080/"
        },
        "id": "TBIAfkHxiWkn",
        "outputId": "a3b7652c-9bb1-460e-c36b-d486f9b187d9"
      },
      "source": [
        "b.to_list()"
      ],
      "execution_count": null,
      "outputs": [
        {
          "output_type": "execute_result",
          "data": {
            "text/plain": [
              "[5, 4, 8, 3]"
            ]
          },
          "metadata": {
            "tags": []
          },
          "execution_count": 30
        }
      ]
    },
    {
      "cell_type": "code",
      "metadata": {
        "colab": {
          "base_uri": "https://localhost:8080/"
        },
        "id": "xLapwz-LiYYX",
        "outputId": "4da71201-60d3-41ce-dc23-283188e813cf"
      },
      "source": [
        "b.append2(2)"
      ],
      "execution_count": null,
      "outputs": [
        {
          "output_type": "execute_result",
          "data": {
            "text/plain": [
              "[5, 4, 8, 3, 2]"
            ]
          },
          "metadata": {
            "tags": []
          },
          "execution_count": 31
        }
      ]
    }
  ]
}