{
  "nbformat": 4,
  "nbformat_minor": 0,
  "metadata": {
    "colab": {
      "name": "LinkedLists.ipynb",
      "provenance": [],
      "collapsed_sections": [],
      "authorship_tag": "ABX9TyOg9eOjmQ9+P46+IZ/CCzVn",
      "include_colab_link": true
    },
    "kernelspec": {
      "name": "python3",
      "display_name": "Python 3"
    }
  },
  "cells": [
    {
      "cell_type": "markdown",
      "metadata": {
        "id": "view-in-github",
        "colab_type": "text"
      },
      "source": [
        "<a href=\"https://colab.research.google.com/github/hirenbhanushali/DSA/blob/master/LinkedLists.ipynb\" target=\"_parent\"><img src=\"https://colab.research.google.com/assets/colab-badge.svg\" alt=\"Open In Colab\"/></a>"
      ]
    },
    {
      "cell_type": "code",
      "metadata": {
        "id": "ervExtUUuupR"
      },
      "source": [
        "class Node:\r\n",
        "    def __init__(self, value):\r\n",
        "        self.value = value\r\n",
        "        self.next = None"
      ],
      "execution_count": 471,
      "outputs": []
    },
    {
      "cell_type": "code",
      "metadata": {
        "id": "BuhaGY3QwSwI"
      },
      "source": [
        "class linkedList:\r\n",
        "    def __init__(self):\r\n",
        "        self.head = None\r\n",
        "        self.length = 0\r\n",
        "\r\n",
        "    def append(self, value):\r\n",
        "        if self.head is None:\r\n",
        "            self.head = Node(value)\r\n",
        "            self.length = 1\r\n",
        "            return self.to_list()\r\n",
        "\r\n",
        "        node = self.head\r\n",
        "        while node.next:\r\n",
        "            node = node.next\r\n",
        "        node.next = Node(value)\r\n",
        "        self.length += 1\r\n",
        "        return self.to_list()\r\n",
        "\r\n",
        "    def to_list(self):\r\n",
        "        values = []\r\n",
        "        node = self.head\r\n",
        "        while node:\r\n",
        "            values.append(node.value)\r\n",
        "            node = node.next\r\n",
        "        return values\r\n",
        "\r\n",
        "    def search(self,key):\r\n",
        "        node = self.head\r\n",
        "        while node:\r\n",
        "            if node.value==key:\r\n",
        "                return node\r\n",
        "            node = node.next\r\n",
        "        return -1\r\n",
        "\r\n",
        "    def prepend(self,value):\r\n",
        "        if self.head is None:\r\n",
        "            self.head = Node(value)\r\n",
        "            self.length = 1\r\n",
        "            return\r\n",
        "\r\n",
        "        node = Node(value)\r\n",
        "        node.next = self.head\r\n",
        "        self.head = node\r\n",
        "        self.length += 1\r\n",
        "        return self.to_list()\r\n",
        "\r\n",
        "    def remove(self,value):\r\n",
        "        node = self.head\r\n",
        "        prev_node = None\r\n",
        "        while node:\r\n",
        "            if self.head.value==value:\r\n",
        "                self.head = self.head.next\r\n",
        "                self.length -=1\r\n",
        "                return self.to_list()\r\n",
        "            if node.value==value:\r\n",
        "                prev_node.next = node.next\r\n",
        "                self.length -=1\r\n",
        "                return self.to_list()\r\n",
        "            prev_node = node\r\n",
        "            node = node.next\r\n",
        "\r\n",
        "    def pop(self):\r\n",
        "        node = self.head\r\n",
        "        self.head = self.head.next\r\n",
        "        self.length-=1\r\n",
        "        return node.value\r\n",
        "\r\n",
        "    def insert(self,index,value):\r\n",
        "        count = 1\r\n",
        "        if index==0:\r\n",
        "            self.prepend(value)\r\n",
        "            return self.to_list()\r\n",
        "        prev = self.head\r\n",
        "        node = self.head.next\r\n",
        "        while node:\r\n",
        "            if count==index:\r\n",
        "                prev.next = Node(value)\r\n",
        "                prev.next.next = node\r\n",
        "                self.length+=1\r\n",
        "                return self.to_list()\r\n",
        "            prev = node\r\n",
        "            node = node.next\r\n",
        "            count+=1\r\n",
        "        return self.append(value)"
      ],
      "execution_count": 472,
      "outputs": []
    },
    {
      "cell_type": "code",
      "metadata": {
        "id": "Ns8BakH46rMa"
      },
      "source": [
        "class Node2:\r\n",
        "    def __init__(self, value):\r\n",
        "        self.value = value\r\n",
        "        self.next = None\r\n",
        "        self.prev = None\r\n",
        "\r\n",
        "class doublyLinkedList:\r\n",
        "    def __init__(self):\r\n",
        "        self.head = None\r\n",
        "        self.tail = self.head\r\n",
        "\r\n",
        "    def append(self,value):\r\n",
        "        if self.head is None:\r\n",
        "            self.head = Node2(value)\r\n",
        "            self.tail = self.head\r\n",
        "            return self.to_list()\r\n",
        "        else:\r\n",
        "            self.tail.next = Node2(value)\r\n",
        "            self.tail.next.prev = self.tail\r\n",
        "            self.tail = self.tail.next\r\n",
        "            return self.to_list()\r\n",
        "\r\n",
        "    def to_list(self):\r\n",
        "        values = []\r\n",
        "        node = self.head\r\n",
        "        while node:\r\n",
        "            values.append(node.value)\r\n",
        "            node = node.next\r\n",
        "        return values    "
      ],
      "execution_count": 473,
      "outputs": []
    },
    {
      "cell_type": "code",
      "metadata": {
        "id": "4I5EXULngArN"
      },
      "source": [
        "linked_list = linkedList()\r\n",
        "linked_list.prepend(1)\r\n",
        "assert linked_list.to_list() == [1], f\"list contents: {linked_list.to_list()}\"\r\n",
        "linked_list.append(3)\r\n",
        "linked_list.prepend(2)\r\n",
        "assert linked_list.to_list() == [2, 1, 3], f\"list contents: {linked_list.to_list()}\""
      ],
      "execution_count": 474,
      "outputs": []
    },
    {
      "cell_type": "code",
      "metadata": {
        "id": "6JTBBzQzhFOU"
      },
      "source": [
        "linked_list = linkedList()\r\n",
        "linked_list.append(1)\r\n",
        "assert linked_list.to_list() == [1], f\"list contents: {linked_list.to_list()}\"\r\n",
        "linked_list.append(3)\r\n",
        "assert linked_list.to_list() == [1, 3], f\"list contents: {linked_list.to_list()}\""
      ],
      "execution_count": 475,
      "outputs": []
    },
    {
      "cell_type": "code",
      "metadata": {
        "id": "2QFWD70ihOKU"
      },
      "source": [
        "linked_list.prepend(2)\r\n",
        "linked_list.prepend(1)\r\n",
        "linked_list.append(4)\r\n",
        "linked_list.append(3)\r\n",
        "assert linked_list.search(1).value == 1, f\"list contents: {linked_list.to_list()}\"\r\n",
        "assert linked_list.search(4).value == 4, f\"list contents: {linked_list.to_list()}\""
      ],
      "execution_count": 476,
      "outputs": []
    },
    {
      "cell_type": "code",
      "metadata": {
        "id": "MUBLxZIzhWok"
      },
      "source": [
        "linked_list.remove(1)\r\n",
        "assert linked_list.to_list() == [2, 1, 3, 4, 3], f\"list contents: {linked_list.to_list()}\"\r\n",
        "linked_list.remove(3)\r\n",
        "assert linked_list.to_list() == [2, 1, 4, 3], f\"list contents: {linked_list.to_list()}\"\r\n",
        "linked_list.remove(3)\r\n",
        "assert linked_list.to_list() == [2, 1, 4], f\"list contents: {linked_list.to_list()}\""
      ],
      "execution_count": 477,
      "outputs": []
    },
    {
      "cell_type": "code",
      "metadata": {
        "id": "dZ3GngdvhZj0"
      },
      "source": [
        "value = linked_list.pop()\r\n",
        "assert value == 2, f\"list contents: {linked_list.to_list()}\"\r\n",
        "assert linked_list.head.value == 1, f\"list contents: {linked_list.to_list()}\""
      ],
      "execution_count": 478,
      "outputs": []
    },
    {
      "cell_type": "code",
      "metadata": {
        "colab": {
          "base_uri": "https://localhost:8080/"
        },
        "id": "0_KbGTGKhb70",
        "outputId": "328bf3aa-96ef-4365-841f-197f9f748aac"
      },
      "source": [
        "linked_list.insert(0, 5)\r\n",
        "assert linked_list.to_list() == [5, 1, 4], f\"list contents: {linked_list.to_list()}\"\r\n",
        "print(linked_list.length)\r\n",
        "linked_list.insert(1, 2)\r\n",
        "assert linked_list.to_list() == [5, 2, 1, 4], f\"list contents: {linked_list.to_list()}\"\r\n",
        "print(linked_list.length)\r\n",
        "linked_list.insert(6, 3)\r\n",
        "assert linked_list.to_list() == [5, 2, 1, 4, 3], f\"list contents: {linked_list.to_list()}\""
      ],
      "execution_count": 479,
      "outputs": [
        {
          "output_type": "stream",
          "text": [
            "3\n",
            "4\n"
          ],
          "name": "stdout"
        }
      ]
    },
    {
      "cell_type": "code",
      "metadata": {
        "id": "72WjCcTmhfFE"
      },
      "source": [
        "assert linked_list.length == 5, f\"list contents: {linked_list.to_list()}\""
      ],
      "execution_count": 480,
      "outputs": []
    },
    {
      "cell_type": "code",
      "metadata": {
        "id": "vMmv1F792tyI"
      },
      "source": [
        ""
      ],
      "execution_count": 480,
      "outputs": []
    }
  ]
}