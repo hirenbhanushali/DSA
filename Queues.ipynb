{
  "nbformat": 4,
  "nbformat_minor": 0,
  "metadata": {
    "colab": {
      "name": "Queues.ipynb",
      "provenance": [],
      "authorship_tag": "ABX9TyM6hsZbTpihLtjRhdZsrvbH",
      "include_colab_link": true
    },
    "kernelspec": {
      "name": "python3",
      "display_name": "Python 3"
    }
  },
  "cells": [
    {
      "cell_type": "markdown",
      "metadata": {
        "id": "view-in-github",
        "colab_type": "text"
      },
      "source": [
        "<a href=\"https://colab.research.google.com/github/hirenbhanushali/DSA/blob/master/Queues.ipynb\" target=\"_parent\"><img src=\"https://colab.research.google.com/assets/colab-badge.svg\" alt=\"Open In Colab\"/></a>"
      ]
    },
    {
      "cell_type": "code",
      "metadata": {
        "id": "0IYqDF57Vv0G"
      },
      "source": [
        "class Node:\r\n",
        "    def __init__(self, value):\r\n",
        "        self.value = value\r\n",
        "        self.next = None"
      ],
      "execution_count": 54,
      "outputs": []
    },
    {
      "cell_type": "code",
      "metadata": {
        "id": "v6zC7SPfVwsM"
      },
      "source": [
        "class queue:\r\n",
        "    def __init__(self):\r\n",
        "        self.head = None\r\n",
        "        self.tail = self.head\r\n",
        "        self.size = 0\r\n",
        "\r\n",
        "    def enqueue(self,value):\r\n",
        "        if self.head is None:\r\n",
        "            self.head = Node(value)\r\n",
        "            self.tail = self.head\r\n",
        "            self.size += 1\r\n",
        "            return\r\n",
        "        node = Node(value)\r\n",
        "        self.tail.next = node\r\n",
        "        self.tail = node\r\n",
        "        self.size += 1\r\n",
        "        return\r\n",
        "\r\n",
        "    def dequeue(self):\r\n",
        "        node = self.head\r\n",
        "        self.head = self.head.next\r\n",
        "        self.size -= 1\r\n",
        "        return node.value\r\n",
        "\r\n",
        "    def peek(self):\r\n",
        "        return self.head.value"
      ],
      "execution_count": 55,
      "outputs": []
    },
    {
      "cell_type": "code",
      "metadata": {
        "colab": {
          "base_uri": "https://localhost:8080/"
        },
        "id": "Hl9u39VLdCVj",
        "outputId": "e97107bf-4fb1-4691-e473-94ba91874f13"
      },
      "source": [
        "q = queue()\r\n",
        "q.enqueue(1)\r\n",
        "q.enqueue(2)\r\n",
        "q.enqueue(3)\r\n",
        "\r\n",
        "# Test size\r\n",
        "print (\"Pass\" if (q.size == 3) else \"Fail\")\r\n",
        "\r\n",
        "# Test dequeue\r\n",
        "print (\"Pass\" if (q.dequeue() == 1) else \"Fail\")\r\n",
        "\r\n",
        "# Test enqueue\r\n",
        "q.enqueue(4)\r\n",
        "print (\"Pass\" if (q.dequeue() == 2) else \"Fail\")\r\n",
        "print (\"Pass\" if (q.dequeue() == 3) else \"Fail\")\r\n",
        "print (\"Pass\" if (q.dequeue() == 4) else \"Fail\")\r\n",
        "q.enqueue(5)\r\n",
        "print (\"Pass\" if (q.size == 1) else \"Fail\")"
      ],
      "execution_count": 66,
      "outputs": [
        {
          "output_type": "stream",
          "text": [
            "Pass\n",
            "Pass\n",
            "Pass\n",
            "Pass\n",
            "Pass\n",
            "Pass\n"
          ],
          "name": "stdout"
        }
      ]
    }
  ]
}